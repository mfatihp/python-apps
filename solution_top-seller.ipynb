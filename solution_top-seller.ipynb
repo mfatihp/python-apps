{
 "metadata": {
  "language_info": {
   "codemirror_mode": {
    "name": "ipython",
    "version": 3
   },
   "file_extension": ".py",
   "mimetype": "text/x-python",
   "name": "python",
   "nbconvert_exporter": "python",
   "pygments_lexer": "ipython3",
   "version": "3.8.3-final"
  },
  "orig_nbformat": 2,
  "kernelspec": {
   "name": "python_defaultSpec_1600155737910",
   "display_name": "Python 3.8.3 64-bit ('base': conda)"
  }
 },
 "nbformat": 4,
 "nbformat_minor": 2,
 "cells": [
  {
   "source": [
    "# Top Seller Solution"
   ],
   "cell_type": "markdown",
   "metadata": {}
  },
  {
   "source": [
    "Author : Muhammet Fatih POLAT"
   ],
   "cell_type": "markdown",
   "metadata": {}
  },
  {
   "source": [
    "1. Solution steps\n",
    "2. Top Seller Function"
   ],
   "cell_type": "markdown",
   "metadata": {}
  },
  {
   "source": [
    "## 1. Solution Steps"
   ],
   "cell_type": "markdown",
   "metadata": {}
  },
  {
   "cell_type": "code",
   "execution_count": 2,
   "metadata": {},
   "outputs": [],
   "source": [
    "import pandas as pd"
   ]
  },
  {
   "cell_type": "code",
   "execution_count": 2,
   "metadata": {},
   "outputs": [],
   "source": [
    "# Read csv files\n",
    "product = pd.read_csv(\"product.csv\")\n",
    "sales = pd.read_csv(\"sales.csv\")\n",
    "store = pd.read_csv(\"store.csv\")"
   ]
  },
  {
   "cell_type": "code",
   "execution_count": 3,
   "metadata": {},
   "outputs": [
    {
     "output_type": "execute_result",
     "data": {
      "text/plain": "    id   name     brand\n0  101  p-101  yoyodyne\n1  102  p-102      duff\n2  103  p-103  yoyodyne\n3  104  p-104      acme\n4  105  p-105  yoyodyne",
      "text/html": "<div>\n<style scoped>\n    .dataframe tbody tr th:only-of-type {\n        vertical-align: middle;\n    }\n\n    .dataframe tbody tr th {\n        vertical-align: top;\n    }\n\n    .dataframe thead th {\n        text-align: right;\n    }\n</style>\n<table border=\"1\" class=\"dataframe\">\n  <thead>\n    <tr style=\"text-align: right;\">\n      <th></th>\n      <th>id</th>\n      <th>name</th>\n      <th>brand</th>\n    </tr>\n  </thead>\n  <tbody>\n    <tr>\n      <th>0</th>\n      <td>101</td>\n      <td>p-101</td>\n      <td>yoyodyne</td>\n    </tr>\n    <tr>\n      <th>1</th>\n      <td>102</td>\n      <td>p-102</td>\n      <td>duff</td>\n    </tr>\n    <tr>\n      <th>2</th>\n      <td>103</td>\n      <td>p-103</td>\n      <td>yoyodyne</td>\n    </tr>\n    <tr>\n      <th>3</th>\n      <td>104</td>\n      <td>p-104</td>\n      <td>acme</td>\n    </tr>\n    <tr>\n      <th>4</th>\n      <td>105</td>\n      <td>p-105</td>\n      <td>yoyodyne</td>\n    </tr>\n  </tbody>\n</table>\n</div>"
     },
     "metadata": {},
     "execution_count": 3
    }
   ],
   "source": [
    "product.head()"
   ]
  },
  {
   "cell_type": "code",
   "execution_count": 4,
   "metadata": {},
   "outputs": [
    {
     "output_type": "execute_result",
     "data": {
      "text/plain": "   id name       city\n0   1  s-1     gotham\n1   2  s-2  coruscant\n2   3  s-3  coruscant\n3   4  s-4     gotham\n4   5  s-5     gotham",
      "text/html": "<div>\n<style scoped>\n    .dataframe tbody tr th:only-of-type {\n        vertical-align: middle;\n    }\n\n    .dataframe tbody tr th {\n        vertical-align: top;\n    }\n\n    .dataframe thead th {\n        text-align: right;\n    }\n</style>\n<table border=\"1\" class=\"dataframe\">\n  <thead>\n    <tr style=\"text-align: right;\">\n      <th></th>\n      <th>id</th>\n      <th>name</th>\n      <th>city</th>\n    </tr>\n  </thead>\n  <tbody>\n    <tr>\n      <th>0</th>\n      <td>1</td>\n      <td>s-1</td>\n      <td>gotham</td>\n    </tr>\n    <tr>\n      <th>1</th>\n      <td>2</td>\n      <td>s-2</td>\n      <td>coruscant</td>\n    </tr>\n    <tr>\n      <th>2</th>\n      <td>3</td>\n      <td>s-3</td>\n      <td>coruscant</td>\n    </tr>\n    <tr>\n      <th>3</th>\n      <td>4</td>\n      <td>s-4</td>\n      <td>gotham</td>\n    </tr>\n    <tr>\n      <th>4</th>\n      <td>5</td>\n      <td>s-5</td>\n      <td>gotham</td>\n    </tr>\n  </tbody>\n</table>\n</div>"
     },
     "metadata": {},
     "execution_count": 4
    }
   ],
   "source": [
    "store.head()"
   ]
  },
  {
   "cell_type": "code",
   "execution_count": 5,
   "metadata": {},
   "outputs": [
    {
     "output_type": "execute_result",
     "data": {
      "text/plain": "         date  product  store  quantity\n0  2020-06-07      114      5         2\n1  2020-05-25      106      7         8\n2  2020-02-05      108      3         7\n3  2020-03-10      111      2         9\n4  2020-03-06      109      3         2",
      "text/html": "<div>\n<style scoped>\n    .dataframe tbody tr th:only-of-type {\n        vertical-align: middle;\n    }\n\n    .dataframe tbody tr th {\n        vertical-align: top;\n    }\n\n    .dataframe thead th {\n        text-align: right;\n    }\n</style>\n<table border=\"1\" class=\"dataframe\">\n  <thead>\n    <tr style=\"text-align: right;\">\n      <th></th>\n      <th>date</th>\n      <th>product</th>\n      <th>store</th>\n      <th>quantity</th>\n    </tr>\n  </thead>\n  <tbody>\n    <tr>\n      <th>0</th>\n      <td>2020-06-07</td>\n      <td>114</td>\n      <td>5</td>\n      <td>2</td>\n    </tr>\n    <tr>\n      <th>1</th>\n      <td>2020-05-25</td>\n      <td>106</td>\n      <td>7</td>\n      <td>8</td>\n    </tr>\n    <tr>\n      <th>2</th>\n      <td>2020-02-05</td>\n      <td>108</td>\n      <td>3</td>\n      <td>7</td>\n    </tr>\n    <tr>\n      <th>3</th>\n      <td>2020-03-10</td>\n      <td>111</td>\n      <td>2</td>\n      <td>9</td>\n    </tr>\n    <tr>\n      <th>4</th>\n      <td>2020-03-06</td>\n      <td>109</td>\n      <td>3</td>\n      <td>2</td>\n    </tr>\n  </tbody>\n</table>\n</div>"
     },
     "metadata": {},
     "execution_count": 5
    }
   ],
   "source": [
    "sales.head()"
   ]
  },
  {
   "source": [
    "- In sales table, product and store columns, represent their table ids"
   ],
   "cell_type": "markdown",
   "metadata": {}
  },
  {
   "cell_type": "code",
   "execution_count": 6,
   "metadata": {},
   "outputs": [
    {
     "output_type": "execute_result",
     "data": {
      "text/plain": "         date  product  store  quantity name       city\n0  2020-06-07      114      5         2  s-5     gotham\n1  2020-05-25      106      7         8  s-7     gotham\n2  2020-02-05      108      3         7  s-3  coruscant\n3  2020-03-10      111      2         9  s-2  coruscant\n4  2020-03-06      109      3         2  s-3  coruscant",
      "text/html": "<div>\n<style scoped>\n    .dataframe tbody tr th:only-of-type {\n        vertical-align: middle;\n    }\n\n    .dataframe tbody tr th {\n        vertical-align: top;\n    }\n\n    .dataframe thead th {\n        text-align: right;\n    }\n</style>\n<table border=\"1\" class=\"dataframe\">\n  <thead>\n    <tr style=\"text-align: right;\">\n      <th></th>\n      <th>date</th>\n      <th>product</th>\n      <th>store</th>\n      <th>quantity</th>\n      <th>name</th>\n      <th>city</th>\n    </tr>\n  </thead>\n  <tbody>\n    <tr>\n      <th>0</th>\n      <td>2020-06-07</td>\n      <td>114</td>\n      <td>5</td>\n      <td>2</td>\n      <td>s-5</td>\n      <td>gotham</td>\n    </tr>\n    <tr>\n      <th>1</th>\n      <td>2020-05-25</td>\n      <td>106</td>\n      <td>7</td>\n      <td>8</td>\n      <td>s-7</td>\n      <td>gotham</td>\n    </tr>\n    <tr>\n      <th>2</th>\n      <td>2020-02-05</td>\n      <td>108</td>\n      <td>3</td>\n      <td>7</td>\n      <td>s-3</td>\n      <td>coruscant</td>\n    </tr>\n    <tr>\n      <th>3</th>\n      <td>2020-03-10</td>\n      <td>111</td>\n      <td>2</td>\n      <td>9</td>\n      <td>s-2</td>\n      <td>coruscant</td>\n    </tr>\n    <tr>\n      <th>4</th>\n      <td>2020-03-06</td>\n      <td>109</td>\n      <td>3</td>\n      <td>2</td>\n      <td>s-3</td>\n      <td>coruscant</td>\n    </tr>\n  </tbody>\n</table>\n</div>"
     },
     "metadata": {},
     "execution_count": 6
    }
   ],
   "source": [
    "# Join two tables\n",
    "joined = sales.join(store.set_index('id'), on='store', how='left')\n",
    "joined.head()"
   ]
  },
  {
   "cell_type": "code",
   "execution_count": 7,
   "metadata": {},
   "outputs": [
    {
     "output_type": "execute_result",
     "data": {
      "text/plain": "         date  product  store  quantity name       city name_product     brand\n0  2020-06-07      114      5         2  s-5     gotham        p-114      duff\n1  2020-05-25      106      7         8  s-7     gotham        p-106      duff\n2  2020-02-05      108      3         7  s-3  coruscant        p-108      acme\n3  2020-03-10      111      2         9  s-2  coruscant        p-111      acme\n4  2020-03-06      109      3         2  s-3  coruscant        p-109  yoyodyne",
      "text/html": "<div>\n<style scoped>\n    .dataframe tbody tr th:only-of-type {\n        vertical-align: middle;\n    }\n\n    .dataframe tbody tr th {\n        vertical-align: top;\n    }\n\n    .dataframe thead th {\n        text-align: right;\n    }\n</style>\n<table border=\"1\" class=\"dataframe\">\n  <thead>\n    <tr style=\"text-align: right;\">\n      <th></th>\n      <th>date</th>\n      <th>product</th>\n      <th>store</th>\n      <th>quantity</th>\n      <th>name</th>\n      <th>city</th>\n      <th>name_product</th>\n      <th>brand</th>\n    </tr>\n  </thead>\n  <tbody>\n    <tr>\n      <th>0</th>\n      <td>2020-06-07</td>\n      <td>114</td>\n      <td>5</td>\n      <td>2</td>\n      <td>s-5</td>\n      <td>gotham</td>\n      <td>p-114</td>\n      <td>duff</td>\n    </tr>\n    <tr>\n      <th>1</th>\n      <td>2020-05-25</td>\n      <td>106</td>\n      <td>7</td>\n      <td>8</td>\n      <td>s-7</td>\n      <td>gotham</td>\n      <td>p-106</td>\n      <td>duff</td>\n    </tr>\n    <tr>\n      <th>2</th>\n      <td>2020-02-05</td>\n      <td>108</td>\n      <td>3</td>\n      <td>7</td>\n      <td>s-3</td>\n      <td>coruscant</td>\n      <td>p-108</td>\n      <td>acme</td>\n    </tr>\n    <tr>\n      <th>3</th>\n      <td>2020-03-10</td>\n      <td>111</td>\n      <td>2</td>\n      <td>9</td>\n      <td>s-2</td>\n      <td>coruscant</td>\n      <td>p-111</td>\n      <td>acme</td>\n    </tr>\n    <tr>\n      <th>4</th>\n      <td>2020-03-06</td>\n      <td>109</td>\n      <td>3</td>\n      <td>2</td>\n      <td>s-3</td>\n      <td>coruscant</td>\n      <td>p-109</td>\n      <td>yoyodyne</td>\n    </tr>\n  </tbody>\n</table>\n</div>"
     },
     "metadata": {},
     "execution_count": 7
    }
   ],
   "source": [
    "# Join two tables. Both of tables has 'name' column, so product column name was renamed with suffix='_product'\n",
    "joined = joined.join(product.set_index('id'), on='product', how='left', rsuffix='_product')\n",
    "joined.head()"
   ]
  },
  {
   "cell_type": "code",
   "execution_count": 8,
   "metadata": {},
   "outputs": [
    {
     "output_type": "execute_result",
     "data": {
      "text/plain": "         date  product  store  quantity name_store       city name_product  \\\n0  2020-06-07      114      5         2        s-5     gotham        p-114   \n1  2020-05-25      106      7         8        s-7     gotham        p-106   \n2  2020-02-05      108      3         7        s-3  coruscant        p-108   \n3  2020-03-10      111      2         9        s-2  coruscant        p-111   \n4  2020-03-06      109      3         2        s-3  coruscant        p-109   \n\n      brand  \n0      duff  \n1      duff  \n2      acme  \n3      acme  \n4  yoyodyne  ",
      "text/html": "<div>\n<style scoped>\n    .dataframe tbody tr th:only-of-type {\n        vertical-align: middle;\n    }\n\n    .dataframe tbody tr th {\n        vertical-align: top;\n    }\n\n    .dataframe thead th {\n        text-align: right;\n    }\n</style>\n<table border=\"1\" class=\"dataframe\">\n  <thead>\n    <tr style=\"text-align: right;\">\n      <th></th>\n      <th>date</th>\n      <th>product</th>\n      <th>store</th>\n      <th>quantity</th>\n      <th>name_store</th>\n      <th>city</th>\n      <th>name_product</th>\n      <th>brand</th>\n    </tr>\n  </thead>\n  <tbody>\n    <tr>\n      <th>0</th>\n      <td>2020-06-07</td>\n      <td>114</td>\n      <td>5</td>\n      <td>2</td>\n      <td>s-5</td>\n      <td>gotham</td>\n      <td>p-114</td>\n      <td>duff</td>\n    </tr>\n    <tr>\n      <th>1</th>\n      <td>2020-05-25</td>\n      <td>106</td>\n      <td>7</td>\n      <td>8</td>\n      <td>s-7</td>\n      <td>gotham</td>\n      <td>p-106</td>\n      <td>duff</td>\n    </tr>\n    <tr>\n      <th>2</th>\n      <td>2020-02-05</td>\n      <td>108</td>\n      <td>3</td>\n      <td>7</td>\n      <td>s-3</td>\n      <td>coruscant</td>\n      <td>p-108</td>\n      <td>acme</td>\n    </tr>\n    <tr>\n      <th>3</th>\n      <td>2020-03-10</td>\n      <td>111</td>\n      <td>2</td>\n      <td>9</td>\n      <td>s-2</td>\n      <td>coruscant</td>\n      <td>p-111</td>\n      <td>acme</td>\n    </tr>\n    <tr>\n      <th>4</th>\n      <td>2020-03-06</td>\n      <td>109</td>\n      <td>3</td>\n      <td>2</td>\n      <td>s-3</td>\n      <td>coruscant</td>\n      <td>p-109</td>\n      <td>yoyodyne</td>\n    </tr>\n  </tbody>\n</table>\n</div>"
     },
     "metadata": {},
     "execution_count": 8
    }
   ],
   "source": [
    "# Result table has name column, it's not informative, renamed it name_store\n",
    "joined = joined.rename(columns={'name': 'name_store'})\n",
    "joined.head()"
   ]
  },
  {
   "cell_type": "code",
   "execution_count": 10,
   "metadata": {
    "tags": []
   },
   "outputs": [
    {
     "output_type": "stream",
     "name": "stdout",
     "text": "---Top Seller Product---\n"
    },
    {
     "output_type": "execute_result",
     "data": {
      "text/plain": "              quantity\nname_product          \np-103               42\np-110               24\np-102               24\np-109               23\np-114               20",
      "text/html": "<div>\n<style scoped>\n    .dataframe tbody tr th:only-of-type {\n        vertical-align: middle;\n    }\n\n    .dataframe tbody tr th {\n        vertical-align: top;\n    }\n\n    .dataframe thead th {\n        text-align: right;\n    }\n</style>\n<table border=\"1\" class=\"dataframe\">\n  <thead>\n    <tr style=\"text-align: right;\">\n      <th></th>\n      <th>quantity</th>\n    </tr>\n    <tr>\n      <th>name_product</th>\n      <th></th>\n    </tr>\n  </thead>\n  <tbody>\n    <tr>\n      <th>p-103</th>\n      <td>42</td>\n    </tr>\n    <tr>\n      <th>p-110</th>\n      <td>24</td>\n    </tr>\n    <tr>\n      <th>p-102</th>\n      <td>24</td>\n    </tr>\n    <tr>\n      <th>p-109</th>\n      <td>23</td>\n    </tr>\n    <tr>\n      <th>p-114</th>\n      <td>20</td>\n    </tr>\n  </tbody>\n</table>\n</div>"
     },
     "metadata": {},
     "execution_count": 10
    }
   ],
   "source": [
    "# Top Seller Product - grouped by product and sorted by quantity\n",
    "print(\"---Top Seller Product---\")\n",
    "prod_quant = joined.groupby('name_product')['quantity'].sum()\n",
    "prod_quant = pd.DataFrame(prod_quant.sort_values(ascending=False))\n",
    "prod_quant.head()"
   ]
  },
  {
   "cell_type": "code",
   "execution_count": 12,
   "metadata": {
    "tags": []
   },
   "outputs": [
    {
     "output_type": "stream",
     "name": "stdout",
     "text": "---Top Seller Store---\n"
    },
    {
     "output_type": "execute_result",
     "data": {
      "text/plain": "            quantity\nname_store          \ns-3               57\ns-2               53\ns-7               41\ns-5               37\ns-4               30",
      "text/html": "<div>\n<style scoped>\n    .dataframe tbody tr th:only-of-type {\n        vertical-align: middle;\n    }\n\n    .dataframe tbody tr th {\n        vertical-align: top;\n    }\n\n    .dataframe thead th {\n        text-align: right;\n    }\n</style>\n<table border=\"1\" class=\"dataframe\">\n  <thead>\n    <tr style=\"text-align: right;\">\n      <th></th>\n      <th>quantity</th>\n    </tr>\n    <tr>\n      <th>name_store</th>\n      <th></th>\n    </tr>\n  </thead>\n  <tbody>\n    <tr>\n      <th>s-3</th>\n      <td>57</td>\n    </tr>\n    <tr>\n      <th>s-2</th>\n      <td>53</td>\n    </tr>\n    <tr>\n      <th>s-7</th>\n      <td>41</td>\n    </tr>\n    <tr>\n      <th>s-5</th>\n      <td>37</td>\n    </tr>\n    <tr>\n      <th>s-4</th>\n      <td>30</td>\n    </tr>\n  </tbody>\n</table>\n</div>"
     },
     "metadata": {},
     "execution_count": 12
    }
   ],
   "source": [
    "# Top Seller Store - grouped by store and sorted by quantity\n",
    "print(\"---Top Seller Store---\")\n",
    "store_quant = joined.groupby('name_store')['quantity'].sum()\n",
    "store_quant = pd.DataFrame(store_quant.sort_values(ascending=False))\n",
    "store_quant.head()"
   ]
  },
  {
   "cell_type": "code",
   "execution_count": 13,
   "metadata": {
    "tags": []
   },
   "outputs": [
    {
     "output_type": "stream",
     "name": "stdout",
     "text": "---Top Seller Brand---\n"
    },
    {
     "output_type": "execute_result",
     "data": {
      "text/plain": "          quantity\nbrand             \nyoyodyne       118\nacme            81\nduff            60",
      "text/html": "<div>\n<style scoped>\n    .dataframe tbody tr th:only-of-type {\n        vertical-align: middle;\n    }\n\n    .dataframe tbody tr th {\n        vertical-align: top;\n    }\n\n    .dataframe thead th {\n        text-align: right;\n    }\n</style>\n<table border=\"1\" class=\"dataframe\">\n  <thead>\n    <tr style=\"text-align: right;\">\n      <th></th>\n      <th>quantity</th>\n    </tr>\n    <tr>\n      <th>brand</th>\n      <th></th>\n    </tr>\n  </thead>\n  <tbody>\n    <tr>\n      <th>yoyodyne</th>\n      <td>118</td>\n    </tr>\n    <tr>\n      <th>acme</th>\n      <td>81</td>\n    </tr>\n    <tr>\n      <th>duff</th>\n      <td>60</td>\n    </tr>\n  </tbody>\n</table>\n</div>"
     },
     "metadata": {},
     "execution_count": 13
    }
   ],
   "source": [
    "# Top Seller Brand - grouped by brand and sorted by quantity\n",
    "print(\"---Top Seller Brand---\")\n",
    "brand_quant = joined.groupby('brand')['quantity'].sum()\n",
    "brand_quant = pd.DataFrame(brand_quant.sort_values(ascending=False))\n",
    "brand_quant.head()"
   ]
  },
  {
   "cell_type": "code",
   "execution_count": 14,
   "metadata": {
    "tags": []
   },
   "outputs": [
    {
     "output_type": "stream",
     "name": "stdout",
     "text": "---Top Seller City---\n"
    },
    {
     "output_type": "execute_result",
     "data": {
      "text/plain": "           quantity\ncity               \ngotham          123\ncoruscant       110\nzion             26",
      "text/html": "<div>\n<style scoped>\n    .dataframe tbody tr th:only-of-type {\n        vertical-align: middle;\n    }\n\n    .dataframe tbody tr th {\n        vertical-align: top;\n    }\n\n    .dataframe thead th {\n        text-align: right;\n    }\n</style>\n<table border=\"1\" class=\"dataframe\">\n  <thead>\n    <tr style=\"text-align: right;\">\n      <th></th>\n      <th>quantity</th>\n    </tr>\n    <tr>\n      <th>city</th>\n      <th></th>\n    </tr>\n  </thead>\n  <tbody>\n    <tr>\n      <th>gotham</th>\n      <td>123</td>\n    </tr>\n    <tr>\n      <th>coruscant</th>\n      <td>110</td>\n    </tr>\n    <tr>\n      <th>zion</th>\n      <td>26</td>\n    </tr>\n  </tbody>\n</table>\n</div>"
     },
     "metadata": {},
     "execution_count": 14
    }
   ],
   "source": [
    "# Top Seller City - grouped by city and sorted by quantity\n",
    "print(\"---Top Seller City---\")\n",
    "city_quant = joined.groupby('city')['quantity'].sum()\n",
    "city_quant = pd.DataFrame(city_quant.sort_values(ascending=False))\n",
    "city_quant.head()"
   ]
  },
  {
   "source": [
    "## 2. Top Seller Function"
   ],
   "cell_type": "markdown",
   "metadata": {}
  },
  {
   "source": [
    "topseller(min_date, max_date, top):\n",
    "\n",
    "    Arguments List\n",
    "\n",
    "        min_date : Starting date       -> Type : str    -> Format : 'YYYY-MM-DD'   -> Default : '2020-01-01'\n",
    "        max_date : Due date            -> Type : str    -> Format : 'YYYY-MM-DD'   -> Default : '2020-06-30'\n",
    "        top      : Number of result    -> Type : int                               -> Default : 3\n",
    "\n",
    "    Output\n",
    "\n",
    "        Prints results\n",
    "\n",
    "        Return -> None"
   ],
   "cell_type": "markdown",
   "metadata": {}
  },
  {
   "cell_type": "code",
   "execution_count": 96,
   "metadata": {},
   "outputs": [],
   "source": [
    "def topseller(min_date = \"2020-01-01\", max_date = \"2020-06-30\", top=3):\n",
    "    \n",
    "    # Read csv files\n",
    "    product = pd.read_csv(\"product.csv\")\n",
    "    sales = pd.read_csv(\"sales.csv\")\n",
    "    store = pd.read_csv(\"store.csv\")\n",
    "\n",
    "    # Convert the date column into dtype datetime\n",
    "    sales['date'] = pd.to_datetime(sales['date'])\n",
    "\n",
    "    ### Check Arguments ###\n",
    "    \n",
    "    # Check 'top' argument, if type not equal int and float, set 3\n",
    "    if (type(top) != int) and (type(top) != float):\n",
    "        print(\"Not proper 'top' argument'...\")\n",
    "        print(\"It's set 3\")\n",
    "        print(\"-\"*50)\n",
    "        print(\"\\n\")\n",
    "        top = 3\n",
    "    # If type int or float, round it and set round result to 'top'\n",
    "    else:\n",
    "        top = round(top)\n",
    "\n",
    "    # Try to convert dates to Timestamp \n",
    "    try:\n",
    "        pd.to_datetime(min_date)\n",
    "        pd.to_datetime(max_date)\n",
    "    except ValueError as e:\n",
    "        print(f\"Error : {e}\")\n",
    "        print(\"-\"*50)\n",
    "        print(\"Type : str\")\n",
    "        print(\"Format: 'YYYY-MM-DD'\")\n",
    "        print(\"-\"*50)\n",
    "        pass\n",
    "\n",
    "    # Convert dates to Timestamp\n",
    "    min_date = pd.to_datetime(min_date)\n",
    "    max_date = pd.to_datetime(max_date)\n",
    "\n",
    "    # Check dates, if they not in data range, set them data.min and data.max\n",
    "    if (min_date < sales['date'].min()) or (min_date > sales['date'].max()):\n",
    "        print(\"min_date out of range...\")\n",
    "        print(\"It's set oldest record date\")\n",
    "        print(\"-\"*50)\n",
    "        print(\"\\n\")\n",
    "        min_date = sales['date'].min()\n",
    "\n",
    "    if (max_date < sales['date'].min()) or (max_date > sales['date'].max()):\n",
    "        print(\"max_date out of range...\")\n",
    "        print(\"It's set newest record date\")\n",
    "        print(\"-\"*50)\n",
    "        print(\"\\n\")\n",
    "        max_date = sales['date'].max()\n",
    "\n",
    "    # Check min_date for has recent date from max_date\n",
    "    if min_date > max_date:\n",
    "        print(\"min_date has recent date from max_date...\")\n",
    "        print(\"It's set min_date as max_date, max_date as min_date\")\n",
    "        print(\"-\"*50)\n",
    "        print(\"\\n\")\n",
    "        min_date, max_date = max_date, min_date \n",
    "\n",
    "    ###\n",
    "\n",
    "    # Join dataframes\n",
    "    joined = sales.join(store.set_index('id'), on='store', how='left')\n",
    "    \n",
    "    # Result table has name column, it's not informative, renamed it name_store\n",
    "    joined = joined.join(product.set_index('id'), on='product', how='left', rsuffix='_product')\n",
    "\n",
    "    # Rename name column with name_store\n",
    "    joined = joined.rename(columns={'name': 'name_store'})\n",
    "\n",
    "    # Apply dates\n",
    "    filtered = joined[(joined['date'] >= min_date) & (joined['date'] <= max_date)]\n",
    "\n",
    "    # Top Seller Product - grouped by product and sorted by quantity\n",
    "    print(\"   Top Seller Product\")\n",
    "    print(\"=\"*24)\n",
    "    prod_quant = filtered.groupby('name_product')['quantity'].sum()\n",
    "    prod_quant = pd.DataFrame(prod_quant.sort_values(ascending=False))\n",
    "    print(prod_quant.head(top))\n",
    "    print(\"\\n\")\n",
    "\n",
    "    # Top Seller Store - grouped by store and sorted by quantity\n",
    "    print(\"   Top Seller Store\")\n",
    "    print(\"=\"*24)\n",
    "    store_quant = filtered.groupby('name_store')['quantity'].sum()\n",
    "    store_quant = pd.DataFrame(store_quant.sort_values(ascending=False))\n",
    "    print(store_quant.head(top))\n",
    "    print(\"\\n\")\n",
    "    \n",
    "    # Top Seller Brand - grouped by brand and sorted by quantity\n",
    "    print(\"   Top Seller Brand\")\n",
    "    print(\"=\"*24)\n",
    "    brand_quant = filtered.groupby('brand')['quantity'].sum()\n",
    "    brand_quant = pd.DataFrame(brand_quant.sort_values(ascending=False))\n",
    "    print(brand_quant.head(top))\n",
    "    print(\"\\n\")\n",
    "\n",
    "    # Top Seller City - grouped by city and sorted by quantity\n",
    "    print(\"   Top Seller City\")\n",
    "    print(\"=\"*24)\n",
    "    city_quant = filtered.groupby('city')['quantity'].sum()\n",
    "    city_quant = pd.DataFrame(city_quant.sort_values(ascending=False))\n",
    "    print(city_quant.head(top))\n",
    "    print(\"\\n\")"
   ]
  },
  {
   "cell_type": "code",
   "execution_count": 94,
   "metadata": {
    "tags": []
   },
   "outputs": [
    {
     "output_type": "stream",
     "name": "stdout",
     "text": "Not proper 'top' argument'...\nIt's set 3\n--------------------------------------------------\n\n\nmin_date out of range...\nIt's set oldest record date\n--------------------------------------------------\n\n\nmax_date out of range...\nIt's set newest record date\n--------------------------------------------------\n\n\n   Top Seller Product\n========================\n              quantity\nname_product          \np-103               42\np-110               24\np-102               24\n\n\n   Top Seller Store\n========================\n            quantity\nname_store          \ns-3               57\ns-2               53\ns-7               41\n\n\n   Top Seller Brand\n========================\n          quantity\nbrand             \nyoyodyne       118\nacme            81\nduff            60\n\n\n   Top Seller City\n========================\n           quantity\ncity               \ngotham          123\ncoruscant       110\nzion             26\n\n\n"
    }
   ],
   "source": [
    "# Testing for out of range dates and string 'top' value\n",
    "topseller(min_date=\"2010-02-01\", max_date=\"2021-06-30\", top=\"a\")"
   ]
  },
  {
   "cell_type": "code",
   "execution_count": 97,
   "metadata": {
    "tags": []
   },
   "outputs": [
    {
     "output_type": "stream",
     "name": "stdout",
     "text": "min_date has recent date from max_date...\nIt's set min_date as max_date, max_date as min_date\n--------------------------------------------------\n\n\n   Top Seller Product\n========================\n              quantity\nname_product          \np-103               33\np-110               22\n\n\n   Top Seller Store\n========================\n            quantity\nname_store          \ns-3               42\ns-7               36\n\n\n   Top Seller Brand\n========================\n          quantity\nbrand             \nyoyodyne        89\nacme            63\n\n\n   Top Seller City\n========================\n           quantity\ncity               \ngotham           85\ncoruscant        78\n\n\n"
    }
   ],
   "source": [
    "# Testing for min_date > max_date\n",
    "topseller(min_date=\"2020-05-30\", max_date=\"2020-02-01\", top=2)"
   ]
  },
  {
   "cell_type": "code",
   "execution_count": 98,
   "metadata": {
    "tags": []
   },
   "outputs": [
    {
     "output_type": "stream",
     "name": "stdout",
     "text": "Error : Given date string not likely a datetime.\n--------------------------------------------------\nType : str\nFormat: 'YYYY-MM-DD'\n--------------------------------------------------\n"
    },
    {
     "output_type": "error",
     "ename": "ValueError",
     "evalue": "Given date string not likely a datetime.",
     "traceback": [
      "\u001b[0;31m---------------------------------------------------------------------------\u001b[0m",
      "\u001b[0;31mTypeError\u001b[0m                                 Traceback (most recent call last)",
      "\u001b[0;32m~/anaconda3/lib/python3.8/site-packages/pandas/core/arrays/datetimes.py\u001b[0m in \u001b[0;36mobjects_to_datetime64ns\u001b[0;34m(data, dayfirst, yearfirst, utc, errors, require_iso8601, allow_object)\u001b[0m\n\u001b[1;32m   1857\u001b[0m         \u001b[0;32mtry\u001b[0m\u001b[0;34m:\u001b[0m\u001b[0;34m\u001b[0m\u001b[0;34m\u001b[0m\u001b[0m\n\u001b[0;32m-> 1858\u001b[0;31m             \u001b[0mvalues\u001b[0m\u001b[0;34m,\u001b[0m \u001b[0mtz_parsed\u001b[0m \u001b[0;34m=\u001b[0m \u001b[0mconversion\u001b[0m\u001b[0;34m.\u001b[0m\u001b[0mdatetime_to_datetime64\u001b[0m\u001b[0;34m(\u001b[0m\u001b[0mdata\u001b[0m\u001b[0;34m)\u001b[0m\u001b[0;34m\u001b[0m\u001b[0;34m\u001b[0m\u001b[0m\n\u001b[0m\u001b[1;32m   1859\u001b[0m             \u001b[0;31m# If tzaware, these values represent unix timestamps, so we\u001b[0m\u001b[0;34m\u001b[0m\u001b[0;34m\u001b[0m\u001b[0;34m\u001b[0m\u001b[0m\n",
      "\u001b[0;32mpandas/_libs/tslibs/conversion.pyx\u001b[0m in \u001b[0;36mpandas._libs.tslibs.conversion.datetime_to_datetime64\u001b[0;34m()\u001b[0m\n",
      "\u001b[0;31mTypeError\u001b[0m: Unrecognized value type: <class 'str'>",
      "\nDuring handling of the above exception, another exception occurred:\n",
      "\u001b[0;31mValueError\u001b[0m                                Traceback (most recent call last)",
      "\u001b[0;32m<ipython-input-98-f6b99eac8128>\u001b[0m in \u001b[0;36m<module>\u001b[0;34m\u001b[0m\n\u001b[1;32m      1\u001b[0m \u001b[0;31m# Testing for invalid date\u001b[0m\u001b[0;34m\u001b[0m\u001b[0;34m\u001b[0m\u001b[0;34m\u001b[0m\u001b[0m\n\u001b[0;32m----> 2\u001b[0;31m \u001b[0mtopseller\u001b[0m\u001b[0;34m(\u001b[0m\u001b[0mmin_date\u001b[0m\u001b[0;34m=\u001b[0m\u001b[0;34m\"a\"\u001b[0m\u001b[0;34m,\u001b[0m \u001b[0mmax_date\u001b[0m\u001b[0;34m=\u001b[0m\u001b[0;34m\"2021-06-30\"\u001b[0m\u001b[0;34m,\u001b[0m \u001b[0mtop\u001b[0m\u001b[0;34m=\u001b[0m\u001b[0;36m2\u001b[0m\u001b[0;34m)\u001b[0m\u001b[0;34m\u001b[0m\u001b[0;34m\u001b[0m\u001b[0m\n\u001b[0m",
      "\u001b[0;32m<ipython-input-96-ed162a38f56f>\u001b[0m in \u001b[0;36mtopseller\u001b[0;34m(min_date, max_date, top)\u001b[0m\n\u001b[1;32m     35\u001b[0m \u001b[0;34m\u001b[0m\u001b[0m\n\u001b[1;32m     36\u001b[0m     \u001b[0;31m# Convert dates to Timestamp\u001b[0m\u001b[0;34m\u001b[0m\u001b[0;34m\u001b[0m\u001b[0;34m\u001b[0m\u001b[0m\n\u001b[0;32m---> 37\u001b[0;31m     \u001b[0mmin_date\u001b[0m \u001b[0;34m=\u001b[0m \u001b[0mpd\u001b[0m\u001b[0;34m.\u001b[0m\u001b[0mto_datetime\u001b[0m\u001b[0;34m(\u001b[0m\u001b[0mmin_date\u001b[0m\u001b[0;34m)\u001b[0m\u001b[0;34m\u001b[0m\u001b[0;34m\u001b[0m\u001b[0m\n\u001b[0m\u001b[1;32m     38\u001b[0m     \u001b[0mmax_date\u001b[0m \u001b[0;34m=\u001b[0m \u001b[0mpd\u001b[0m\u001b[0;34m.\u001b[0m\u001b[0mto_datetime\u001b[0m\u001b[0;34m(\u001b[0m\u001b[0mmax_date\u001b[0m\u001b[0;34m)\u001b[0m\u001b[0;34m\u001b[0m\u001b[0;34m\u001b[0m\u001b[0m\n\u001b[1;32m     39\u001b[0m \u001b[0;34m\u001b[0m\u001b[0m\n",
      "\u001b[0;32m~/anaconda3/lib/python3.8/site-packages/pandas/core/tools/datetimes.py\u001b[0m in \u001b[0;36mto_datetime\u001b[0;34m(arg, errors, dayfirst, yearfirst, utc, format, exact, unit, infer_datetime_format, origin, cache)\u001b[0m\n\u001b[1;32m    754\u001b[0m             \u001b[0mresult\u001b[0m \u001b[0;34m=\u001b[0m \u001b[0mconvert_listlike\u001b[0m\u001b[0;34m(\u001b[0m\u001b[0marg\u001b[0m\u001b[0;34m,\u001b[0m \u001b[0mformat\u001b[0m\u001b[0;34m)\u001b[0m\u001b[0;34m\u001b[0m\u001b[0;34m\u001b[0m\u001b[0m\n\u001b[1;32m    755\u001b[0m     \u001b[0;32melse\u001b[0m\u001b[0;34m:\u001b[0m\u001b[0;34m\u001b[0m\u001b[0;34m\u001b[0m\u001b[0m\n\u001b[0;32m--> 756\u001b[0;31m         \u001b[0mresult\u001b[0m \u001b[0;34m=\u001b[0m \u001b[0mconvert_listlike\u001b[0m\u001b[0;34m(\u001b[0m\u001b[0mnp\u001b[0m\u001b[0;34m.\u001b[0m\u001b[0marray\u001b[0m\u001b[0;34m(\u001b[0m\u001b[0;34m[\u001b[0m\u001b[0marg\u001b[0m\u001b[0;34m]\u001b[0m\u001b[0;34m)\u001b[0m\u001b[0;34m,\u001b[0m \u001b[0mformat\u001b[0m\u001b[0;34m)\u001b[0m\u001b[0;34m[\u001b[0m\u001b[0;36m0\u001b[0m\u001b[0;34m]\u001b[0m\u001b[0;34m\u001b[0m\u001b[0;34m\u001b[0m\u001b[0m\n\u001b[0m\u001b[1;32m    757\u001b[0m \u001b[0;34m\u001b[0m\u001b[0m\n\u001b[1;32m    758\u001b[0m     \u001b[0;32mreturn\u001b[0m \u001b[0mresult\u001b[0m\u001b[0;34m\u001b[0m\u001b[0;34m\u001b[0m\u001b[0m\n",
      "\u001b[0;32m~/anaconda3/lib/python3.8/site-packages/pandas/core/tools/datetimes.py\u001b[0m in \u001b[0;36m_convert_listlike_datetimes\u001b[0;34m(arg, format, name, tz, unit, errors, infer_datetime_format, dayfirst, yearfirst, exact)\u001b[0m\n\u001b[1;32m    438\u001b[0m         \u001b[0;32massert\u001b[0m \u001b[0mformat\u001b[0m \u001b[0;32mis\u001b[0m \u001b[0;32mNone\u001b[0m \u001b[0;32mor\u001b[0m \u001b[0minfer_datetime_format\u001b[0m\u001b[0;34m\u001b[0m\u001b[0;34m\u001b[0m\u001b[0m\n\u001b[1;32m    439\u001b[0m         \u001b[0mutc\u001b[0m \u001b[0;34m=\u001b[0m \u001b[0mtz\u001b[0m \u001b[0;34m==\u001b[0m \u001b[0;34m\"utc\"\u001b[0m\u001b[0;34m\u001b[0m\u001b[0;34m\u001b[0m\u001b[0m\n\u001b[0;32m--> 440\u001b[0;31m         result, tz_parsed = objects_to_datetime64ns(\n\u001b[0m\u001b[1;32m    441\u001b[0m             \u001b[0marg\u001b[0m\u001b[0;34m,\u001b[0m\u001b[0;34m\u001b[0m\u001b[0;34m\u001b[0m\u001b[0m\n\u001b[1;32m    442\u001b[0m             \u001b[0mdayfirst\u001b[0m\u001b[0;34m=\u001b[0m\u001b[0mdayfirst\u001b[0m\u001b[0;34m,\u001b[0m\u001b[0;34m\u001b[0m\u001b[0;34m\u001b[0m\u001b[0m\n",
      "\u001b[0;32m~/anaconda3/lib/python3.8/site-packages/pandas/core/arrays/datetimes.py\u001b[0m in \u001b[0;36mobjects_to_datetime64ns\u001b[0;34m(data, dayfirst, yearfirst, utc, errors, require_iso8601, allow_object)\u001b[0m\n\u001b[1;32m   1861\u001b[0m             \u001b[0;32mreturn\u001b[0m \u001b[0mvalues\u001b[0m\u001b[0;34m.\u001b[0m\u001b[0mview\u001b[0m\u001b[0;34m(\u001b[0m\u001b[0;34m\"i8\"\u001b[0m\u001b[0;34m)\u001b[0m\u001b[0;34m,\u001b[0m \u001b[0mtz_parsed\u001b[0m\u001b[0;34m\u001b[0m\u001b[0;34m\u001b[0m\u001b[0m\n\u001b[1;32m   1862\u001b[0m         \u001b[0;32mexcept\u001b[0m \u001b[0;34m(\u001b[0m\u001b[0mValueError\u001b[0m\u001b[0;34m,\u001b[0m \u001b[0mTypeError\u001b[0m\u001b[0;34m)\u001b[0m\u001b[0;34m:\u001b[0m\u001b[0;34m\u001b[0m\u001b[0;34m\u001b[0m\u001b[0m\n\u001b[0;32m-> 1863\u001b[0;31m             \u001b[0;32mraise\u001b[0m \u001b[0me\u001b[0m\u001b[0;34m\u001b[0m\u001b[0;34m\u001b[0m\u001b[0m\n\u001b[0m\u001b[1;32m   1864\u001b[0m \u001b[0;34m\u001b[0m\u001b[0m\n\u001b[1;32m   1865\u001b[0m     \u001b[0;32mif\u001b[0m \u001b[0mtz_parsed\u001b[0m \u001b[0;32mis\u001b[0m \u001b[0;32mnot\u001b[0m \u001b[0;32mNone\u001b[0m\u001b[0;34m:\u001b[0m\u001b[0;34m\u001b[0m\u001b[0;34m\u001b[0m\u001b[0m\n",
      "\u001b[0;32m~/anaconda3/lib/python3.8/site-packages/pandas/core/arrays/datetimes.py\u001b[0m in \u001b[0;36mobjects_to_datetime64ns\u001b[0;34m(data, dayfirst, yearfirst, utc, errors, require_iso8601, allow_object)\u001b[0m\n\u001b[1;32m   1846\u001b[0m \u001b[0;34m\u001b[0m\u001b[0m\n\u001b[1;32m   1847\u001b[0m     \u001b[0;32mtry\u001b[0m\u001b[0;34m:\u001b[0m\u001b[0;34m\u001b[0m\u001b[0;34m\u001b[0m\u001b[0m\n\u001b[0;32m-> 1848\u001b[0;31m         result, tz_parsed = tslib.array_to_datetime(\n\u001b[0m\u001b[1;32m   1849\u001b[0m             \u001b[0mdata\u001b[0m\u001b[0;34m,\u001b[0m\u001b[0;34m\u001b[0m\u001b[0;34m\u001b[0m\u001b[0m\n\u001b[1;32m   1850\u001b[0m             \u001b[0merrors\u001b[0m\u001b[0;34m=\u001b[0m\u001b[0merrors\u001b[0m\u001b[0;34m,\u001b[0m\u001b[0;34m\u001b[0m\u001b[0;34m\u001b[0m\u001b[0m\n",
      "\u001b[0;32mpandas/_libs/tslib.pyx\u001b[0m in \u001b[0;36mpandas._libs.tslib.array_to_datetime\u001b[0;34m()\u001b[0m\n",
      "\u001b[0;32mpandas/_libs/tslib.pyx\u001b[0m in \u001b[0;36mpandas._libs.tslib.array_to_datetime\u001b[0;34m()\u001b[0m\n",
      "\u001b[0;32mpandas/_libs/tslib.pyx\u001b[0m in \u001b[0;36mpandas._libs.tslib.array_to_datetime_object\u001b[0;34m()\u001b[0m\n",
      "\u001b[0;32mpandas/_libs/tslib.pyx\u001b[0m in \u001b[0;36mpandas._libs.tslib.array_to_datetime_object\u001b[0;34m()\u001b[0m\n",
      "\u001b[0;32mpandas/_libs/tslibs/parsing.pyx\u001b[0m in \u001b[0;36mpandas._libs.tslibs.parsing.parse_datetime_string\u001b[0;34m()\u001b[0m\n",
      "\u001b[0;31mValueError\u001b[0m: Given date string not likely a datetime."
     ]
    }
   ],
   "source": [
    "# Testing for invalid date\n",
    "topseller(min_date=\"a\", max_date=\"2021-06-30\", top=2)"
   ]
  },
  {
   "cell_type": "code",
   "execution_count": null,
   "metadata": {},
   "outputs": [],
   "source": []
  }
 ]
}